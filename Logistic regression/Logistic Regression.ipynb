{
 "cells": [
  {
   "cell_type": "markdown",
   "id": "19adb3c1",
   "metadata": {},
   "source": [
    "### Linear Regression - predicted value is continues \n",
    "### Logistic Regression - predicted value is categorical "
   ]
  },
  {
   "cell_type": "code",
   "execution_count": 1,
   "id": "cd2fef3b",
   "metadata": {},
   "outputs": [],
   "source": [
    "import pandas as pd\n",
    "import numpy as np\n",
    "import matplotlib.pyplot as plt\n",
    "from sklearn.linear_model import LogisticRegression\n",
    "from sklearn.model_selection import train_test_split"
   ]
  },
  {
   "cell_type": "code",
   "execution_count": 2,
   "id": "77a62f70",
   "metadata": {},
   "outputs": [],
   "source": [
    "data = pd.read_csv('Housing.csv')"
   ]
  },
  {
   "cell_type": "code",
   "execution_count": 3,
   "id": "ff1e6f18",
   "metadata": {},
   "outputs": [
    {
     "data": {
      "text/html": [
       "<div>\n",
       "<style scoped>\n",
       "    .dataframe tbody tr th:only-of-type {\n",
       "        vertical-align: middle;\n",
       "    }\n",
       "\n",
       "    .dataframe tbody tr th {\n",
       "        vertical-align: top;\n",
       "    }\n",
       "\n",
       "    .dataframe thead th {\n",
       "        text-align: right;\n",
       "    }\n",
       "</style>\n",
       "<table border=\"1\" class=\"dataframe\">\n",
       "  <thead>\n",
       "    <tr style=\"text-align: right;\">\n",
       "      <th></th>\n",
       "      <th>price</th>\n",
       "      <th>area</th>\n",
       "      <th>bedrooms</th>\n",
       "      <th>bathrooms</th>\n",
       "      <th>stories</th>\n",
       "      <th>mainroad</th>\n",
       "      <th>guestroom</th>\n",
       "      <th>basement</th>\n",
       "      <th>hotwaterheating</th>\n",
       "      <th>airconditioning</th>\n",
       "      <th>parking</th>\n",
       "      <th>prefarea</th>\n",
       "      <th>furnishingstatus</th>\n",
       "    </tr>\n",
       "  </thead>\n",
       "  <tbody>\n",
       "    <tr>\n",
       "      <th>0</th>\n",
       "      <td>13300000</td>\n",
       "      <td>7420</td>\n",
       "      <td>4</td>\n",
       "      <td>2</td>\n",
       "      <td>3</td>\n",
       "      <td>yes</td>\n",
       "      <td>no</td>\n",
       "      <td>no</td>\n",
       "      <td>no</td>\n",
       "      <td>yes</td>\n",
       "      <td>2</td>\n",
       "      <td>yes</td>\n",
       "      <td>furnished</td>\n",
       "    </tr>\n",
       "    <tr>\n",
       "      <th>1</th>\n",
       "      <td>12250000</td>\n",
       "      <td>8960</td>\n",
       "      <td>4</td>\n",
       "      <td>4</td>\n",
       "      <td>4</td>\n",
       "      <td>yes</td>\n",
       "      <td>no</td>\n",
       "      <td>no</td>\n",
       "      <td>no</td>\n",
       "      <td>yes</td>\n",
       "      <td>3</td>\n",
       "      <td>no</td>\n",
       "      <td>furnished</td>\n",
       "    </tr>\n",
       "    <tr>\n",
       "      <th>2</th>\n",
       "      <td>12250000</td>\n",
       "      <td>9960</td>\n",
       "      <td>3</td>\n",
       "      <td>2</td>\n",
       "      <td>2</td>\n",
       "      <td>yes</td>\n",
       "      <td>no</td>\n",
       "      <td>yes</td>\n",
       "      <td>no</td>\n",
       "      <td>no</td>\n",
       "      <td>2</td>\n",
       "      <td>yes</td>\n",
       "      <td>semi-furnished</td>\n",
       "    </tr>\n",
       "    <tr>\n",
       "      <th>3</th>\n",
       "      <td>12215000</td>\n",
       "      <td>7500</td>\n",
       "      <td>4</td>\n",
       "      <td>2</td>\n",
       "      <td>2</td>\n",
       "      <td>yes</td>\n",
       "      <td>no</td>\n",
       "      <td>yes</td>\n",
       "      <td>no</td>\n",
       "      <td>yes</td>\n",
       "      <td>3</td>\n",
       "      <td>yes</td>\n",
       "      <td>furnished</td>\n",
       "    </tr>\n",
       "    <tr>\n",
       "      <th>4</th>\n",
       "      <td>11410000</td>\n",
       "      <td>7420</td>\n",
       "      <td>4</td>\n",
       "      <td>1</td>\n",
       "      <td>2</td>\n",
       "      <td>yes</td>\n",
       "      <td>yes</td>\n",
       "      <td>yes</td>\n",
       "      <td>no</td>\n",
       "      <td>yes</td>\n",
       "      <td>2</td>\n",
       "      <td>no</td>\n",
       "      <td>furnished</td>\n",
       "    </tr>\n",
       "  </tbody>\n",
       "</table>\n",
       "</div>"
      ],
      "text/plain": [
       "      price  area  bedrooms  bathrooms  stories mainroad guestroom basement  \\\n",
       "0  13300000  7420         4          2        3      yes        no       no   \n",
       "1  12250000  8960         4          4        4      yes        no       no   \n",
       "2  12250000  9960         3          2        2      yes        no      yes   \n",
       "3  12215000  7500         4          2        2      yes        no      yes   \n",
       "4  11410000  7420         4          1        2      yes       yes      yes   \n",
       "\n",
       "  hotwaterheating airconditioning  parking prefarea furnishingstatus  \n",
       "0              no             yes        2      yes        furnished  \n",
       "1              no             yes        3       no        furnished  \n",
       "2              no              no        2      yes   semi-furnished  \n",
       "3              no             yes        3      yes        furnished  \n",
       "4              no             yes        2       no        furnished  "
      ]
     },
     "execution_count": 3,
     "metadata": {},
     "output_type": "execute_result"
    }
   ],
   "source": [
    "data.head()"
   ]
  },
  {
   "cell_type": "code",
   "execution_count": 26,
   "id": "8854434e",
   "metadata": {},
   "outputs": [],
   "source": [
    "req_data = data[['area', 'prefarea']]"
   ]
  },
  {
   "cell_type": "code",
   "execution_count": 27,
   "id": "a73c2488",
   "metadata": {},
   "outputs": [
    {
     "data": {
      "text/html": [
       "<div>\n",
       "<style scoped>\n",
       "    .dataframe tbody tr th:only-of-type {\n",
       "        vertical-align: middle;\n",
       "    }\n",
       "\n",
       "    .dataframe tbody tr th {\n",
       "        vertical-align: top;\n",
       "    }\n",
       "\n",
       "    .dataframe thead th {\n",
       "        text-align: right;\n",
       "    }\n",
       "</style>\n",
       "<table border=\"1\" class=\"dataframe\">\n",
       "  <thead>\n",
       "    <tr style=\"text-align: right;\">\n",
       "      <th></th>\n",
       "      <th>area</th>\n",
       "      <th>prefarea</th>\n",
       "    </tr>\n",
       "  </thead>\n",
       "  <tbody>\n",
       "    <tr>\n",
       "      <th>0</th>\n",
       "      <td>7420</td>\n",
       "      <td>yes</td>\n",
       "    </tr>\n",
       "    <tr>\n",
       "      <th>1</th>\n",
       "      <td>8960</td>\n",
       "      <td>no</td>\n",
       "    </tr>\n",
       "    <tr>\n",
       "      <th>2</th>\n",
       "      <td>9960</td>\n",
       "      <td>yes</td>\n",
       "    </tr>\n",
       "    <tr>\n",
       "      <th>3</th>\n",
       "      <td>7500</td>\n",
       "      <td>yes</td>\n",
       "    </tr>\n",
       "    <tr>\n",
       "      <th>4</th>\n",
       "      <td>7420</td>\n",
       "      <td>no</td>\n",
       "    </tr>\n",
       "  </tbody>\n",
       "</table>\n",
       "</div>"
      ],
      "text/plain": [
       "   area prefarea\n",
       "0  7420      yes\n",
       "1  8960       no\n",
       "2  9960      yes\n",
       "3  7500      yes\n",
       "4  7420       no"
      ]
     },
     "execution_count": 27,
     "metadata": {},
     "output_type": "execute_result"
    }
   ],
   "source": [
    "req_data.head()"
   ]
  },
  {
   "cell_type": "code",
   "execution_count": 28,
   "id": "f2688be8",
   "metadata": {},
   "outputs": [
    {
     "data": {
      "text/plain": [
       "<matplotlib.collections.PathCollection at 0x1adb22a8890>"
      ]
     },
     "execution_count": 28,
     "metadata": {},
     "output_type": "execute_result"
    },
    {
     "data": {
      "image/png": "[encoded data removed]",
      "text/plain": [
       "<Figure size 640x480 with 1 Axes>"
      ]
     },
     "metadata": {},
     "output_type": "display_data"
    }
   ],
   "source": [
    "plt.scatter(req_data[['area']], req_data.prefarea, marker = '+', color = 'red')"
   ]
  },
  {
   "cell_type": "code",
   "execution_count": 29,
   "id": "d2dccda5",
   "metadata": {},
   "outputs": [],
   "source": [
    "x = req_data[['area']]\n",
    "y = req_data.prefarea"
   ]
  },
  {
   "cell_type": "code",
   "execution_count": 30,
   "id": "eeb09232",
   "metadata": {},
   "outputs": [],
   "source": [
    "x_train, x_test, y_train, y_test = train_test_split(x, y, test_size = 0.3, random_state = 100)"
   ]
  },
  {
   "cell_type": "code",
   "execution_count": 31,
   "id": "032cfb96",
   "metadata": {},
   "outputs": [
    {
     "data": {
      "text/html": [
       "<style>#sk-container-id-2 {color: black;background-color: white;}#sk-container-id-2 pre{padding: 0;}#sk-container-id-2 div.sk-toggleable {background-color: white;}#sk-container-id-2 label.sk-toggleable__label {cursor: pointer;display: block;width: 100%;margin-bottom: 0;padding: 0.3em;box-sizing: border-box;text-align: center;}#sk-container-id-2 label.sk-toggleable__label-arrow:before {content: \"▸\";float: left;margin-right: 0.25em;color: #696969;}#sk-container-id-2 label.sk-toggleable__label-arrow:hover:before {color: black;}#sk-container-id-2 div.sk-estimator:hover label.sk-toggleable__label-arrow:before {color: black;}#sk-container-id-2 div.sk-toggleable__content {max-height: 0;max-width: 0;overflow: hidden;text-align: left;background-color: #f0f8ff;}#sk-container-id-2 div.sk-toggleable__content pre {margin: 0.2em;color: black;border-radius: 0.25em;background-color: #f0f8ff;}#sk-container-id-2 input.sk-toggleable__control:checked~div.sk-toggleable__content {max-height: 200px;max-width: 100%;overflow: auto;}#sk-container-id-2 input.sk-toggleable__control:checked~label.sk-toggleable__label-arrow:before {content: \"▾\";}#sk-container-id-2 div.sk-estimator input.sk-toggleable__control:checked~label.sk-toggleable__label {background-color: #d4ebff;}#sk-container-id-2 div.sk-label input.sk-toggleable__control:checked~label.sk-toggleable__label {background-color: #d4ebff;}#sk-container-id-2 input.sk-hidden--visually {border: 0;clip: rect(1px 1px 1px 1px);clip: rect(1px, 1px, 1px, 1px);height: 1px;margin: -1px;overflow: hidden;padding: 0;position: absolute;width: 1px;}#sk-container-id-2 div.sk-estimator {font-family: monospace;background-color: #f0f8ff;border: 1px dotted black;border-radius: 0.25em;box-sizing: border-box;margin-bottom: 0.5em;}#sk-container-id-2 div.sk-estimator:hover {background-color: #d4ebff;}#sk-container-id-2 div.sk-parallel-item::after {content: \"\";width: 100%;border-bottom: 1px solid gray;flex-grow: 1;}#sk-container-id-2 div.sk-label:hover label.sk-toggleable__label {background-color: #d4ebff;}#sk-container-id-2 div.sk-serial::before {content: \"\";position: absolute;border-left: 1px solid gray;box-sizing: border-box;top: 0;bottom: 0;left: 50%;z-index: 0;}#sk-container-id-2 div.sk-serial {display: flex;flex-direction: column;align-items: center;background-color: white;padding-right: 0.2em;padding-left: 0.2em;position: relative;}#sk-container-id-2 div.sk-item {position: relative;z-index: 1;}#sk-container-id-2 div.sk-parallel {display: flex;align-items: stretch;justify-content: center;background-color: white;position: relative;}#sk-container-id-2 div.sk-item::before, #sk-container-id-2 div.sk-parallel-item::before {content: \"\";position: absolute;border-left: 1px solid gray;box-sizing: border-box;top: 0;bottom: 0;left: 50%;z-index: -1;}#sk-container-id-2 div.sk-parallel-item {display: flex;flex-direction: column;z-index: 1;position: relative;background-color: white;}#sk-container-id-2 div.sk-parallel-item:first-child::after {align-self: flex-end;width: 50%;}#sk-container-id-2 div.sk-parallel-item:last-child::after {align-self: flex-start;width: 50%;}#sk-container-id-2 div.sk-parallel-item:only-child::after {width: 0;}#sk-container-id-2 div.sk-dashed-wrapped {border: 1px dashed gray;margin: 0 0.4em 0.5em 0.4em;box-sizing: border-box;padding-bottom: 0.4em;background-color: white;}#sk-container-id-2 div.sk-label label {font-family: monospace;font-weight: bold;display: inline-block;line-height: 1.2em;}#sk-container-id-2 div.sk-label-container {text-align: center;}#sk-container-id-2 div.sk-container {/* jupyter's `normalize.less` sets `[hidden] { display: none; }` but bootstrap.min.css set `[hidden] { display: none !important; }` so we also need the `!important` here to be able to override the default hidden behavior on the sphinx rendered scikit-learn.org. See: https://github.com/scikit-learn/scikit-learn/issues/21755 */display: inline-block !important;position: relative;}#sk-container-id-2 div.sk-text-repr-fallback {display: none;}</style><div id=\"sk-container-id-2\" class=\"sk-top-container\"><div class=\"sk-text-repr-fallback\"><pre>LogisticRegression()</pre><b>In a Jupyter environment, please rerun this cell to show the HTML representation or trust the notebook. <br />On GitHub, the HTML representation is unable to render, please try loading this page with nbviewer.org.</b></div><div class=\"sk-container\" hidden><div class=\"sk-item\"><div class=\"sk-estimator sk-toggleable\"><input class=\"sk-toggleable__control sk-hidden--visually\" id=\"sk-estimator-id-2\" type=\"checkbox\" checked><label for=\"sk-estimator-id-2\" class=\"sk-toggleable__label sk-toggleable__label-arrow\">LogisticRegression</label><div class=\"sk-toggleable__content\"><pre>LogisticRegression()</pre></div></div></div></div></div>"
      ],
      "text/plain": [
       "LogisticRegression()"
      ]
     },
     "execution_count": 31,
     "metadata": {},
     "output_type": "execute_result"
    }
   ],
   "source": [
    "log_r = LogisticRegression()\n",
    "log_r.fit(x_train, y_train)"
   ]
  },
  {
   "cell_type": "code",
   "execution_count": 32,
   "id": "498568c5",
   "metadata": {},
   "outputs": [
    {
     "data": {
      "text/plain": [
       "array(['no', 'no', 'yes', 'no', 'no', 'no', 'no', 'no', 'no', 'no', 'no',\n",
       "       'no', 'no', 'yes', 'no', 'no', 'no', 'no', 'no', 'no', 'no', 'no',\n",
       "       'no', 'no', 'no', 'no', 'no', 'no', 'no', 'no', 'no', 'no', 'no',\n",
       "       'no', 'no', 'no', 'no', 'no', 'no', 'no', 'no', 'no', 'no', 'no',\n",
       "       'no', 'no', 'no', 'no', 'no', 'no', 'no', 'no', 'no', 'no', 'no',\n",
       "       'no', 'no', 'no', 'no', 'no', 'no', 'no', 'no', 'no', 'no', 'no',\n",
       "       'yes', 'no', 'no', 'no', 'no', 'no', 'no', 'no', 'no', 'no', 'yes',\n",
       "       'no', 'no', 'no', 'no', 'no', 'no', 'no', 'no', 'no', 'no', 'no',\n",
       "       'no', 'no', 'no', 'no', 'no', 'no', 'yes', 'no', 'no', 'no', 'no',\n",
       "       'no', 'no', 'no', 'no', 'yes', 'no', 'no', 'no', 'no', 'no', 'no',\n",
       "       'no', 'no', 'no', 'no', 'no', 'no', 'no', 'no', 'no', 'no', 'no',\n",
       "       'no', 'no', 'no', 'no', 'no', 'no', 'no', 'no', 'no', 'no', 'no',\n",
       "       'no', 'no', 'no', 'no', 'yes', 'no', 'no', 'no', 'no', 'no', 'no',\n",
       "       'no', 'no', 'no', 'no', 'no', 'yes', 'no', 'no', 'yes', 'no', 'no',\n",
       "       'no', 'no', 'no', 'no', 'no', 'no', 'yes', 'no', 'no', 'no'],\n",
       "      dtype=object)"
      ]
     },
     "execution_count": 32,
     "metadata": {},
     "output_type": "execute_result"
    }
   ],
   "source": [
    "log_r.predict(x_test)"
   ]
  },
  {
   "cell_type": "code",
   "execution_count": 33,
   "id": "6264fcca",
   "metadata": {},
   "outputs": [
    {
     "name": "stderr",
     "output_type": "stream",
     "text": [
      "C:\\Users\\Asus\\AppData\\Local\\Programs\\Python\\Python311\\Lib\\site-packages\\sklearn\\base.py:439: UserWarning: X does not have valid feature names, but LogisticRegression was fitted with feature names\n",
      "  warnings.warn(\n"
     ]
    },
    {
     "data": {
      "text/plain": [
       "array(['no'], dtype=object)"
      ]
     },
     "execution_count": 33,
     "metadata": {},
     "output_type": "execute_result"
    }
   ],
   "source": [
    "log_r.predict([[8500]])"
   ]
  },
  {
   "cell_type": "code",
   "execution_count": 35,
   "id": "561338ed",
   "metadata": {},
   "outputs": [
    {
     "data": {
      "text/plain": [
       "array([[0.87605946, 0.12394054],\n",
       "       [0.73282456, 0.26717544],\n",
       "       [0.42892326, 0.57107674],\n",
       "       [0.77123853, 0.22876147],\n",
       "       [0.79043983, 0.20956017],\n",
       "       [0.8203507 , 0.1796493 ],\n",
       "       [0.69955102, 0.30044898],\n",
       "       [0.69955102, 0.30044898],\n",
       "       [0.68271452, 0.31728548],\n",
       "       [0.69955102, 0.30044898],\n",
       "       [0.75365978, 0.24634022],\n",
       "       [0.75026442, 0.24973558],\n",
       "       [0.87909086, 0.12090914],\n",
       "       [0.12968908, 0.87031092],\n",
       "       [0.78093866, 0.21906134],\n",
       "       [0.8162911 , 0.1837089 ],\n",
       "       [0.63503755, 0.36496245],\n",
       "       [0.8310462 , 0.1689538 ],\n",
       "       [0.69891294, 0.30108706],\n",
       "       [0.8464257 , 0.1535743 ],\n",
       "       [0.81216078, 0.18783922],\n",
       "       [0.8299785 , 0.1700215 ],\n",
       "       [0.8664665 , 0.1335335 ],\n",
       "       [0.73282456, 0.26717544],\n",
       "       [0.87000678, 0.12999322],\n",
       "       [0.86565702, 0.13434298],\n",
       "       [0.81169748, 0.18830252],\n",
       "       [0.76146071, 0.23853929],\n",
       "       [0.65174251, 0.34825749],\n",
       "       [0.73282456, 0.26717544],\n",
       "       [0.90226341, 0.09773659],\n",
       "       [0.82390011, 0.17609989],\n",
       "       [0.80031433, 0.19968567],\n",
       "       [0.84842636, 0.15157364],\n",
       "       [0.73044166, 0.26955834],\n",
       "       [0.78588075, 0.21411925],\n",
       "       [0.84877718, 0.15122282],\n",
       "       [0.83588889, 0.16411111],\n",
       "       [0.84916621, 0.15083379],\n",
       "       [0.81216078, 0.18783922],\n",
       "       [0.85263048, 0.14736952],\n",
       "       [0.86154726, 0.13845274],\n",
       "       [0.69571098, 0.30428902],\n",
       "       [0.89102632, 0.10897368],\n",
       "       [0.87867099, 0.12132901],\n",
       "       [0.76692796, 0.23307204],\n",
       "       [0.76146071, 0.23853929],\n",
       "       [0.85032835, 0.14967165],\n",
       "       [0.81216078, 0.18783922],\n",
       "       [0.57182925, 0.42817075],\n",
       "       [0.87506776, 0.12493224],\n",
       "       [0.74453649, 0.25546351],\n",
       "       [0.77230737, 0.22769263],\n",
       "       [0.66942672, 0.33057328],\n",
       "       [0.71152625, 0.28847375],\n",
       "       [0.74453649, 0.25546351],\n",
       "       [0.70840246, 0.29159754],\n",
       "       [0.832532  , 0.167468  ],\n",
       "       [0.85414891, 0.14585109],\n",
       "       [0.76692796, 0.23307204],\n",
       "       [0.91000146, 0.08999854],\n",
       "       [0.8668872 , 0.1331128 ],\n",
       "       [0.76146071, 0.23853929],\n",
       "       [0.69571098, 0.30428902],\n",
       "       [0.85714684, 0.14285316],\n",
       "       [0.64036498, 0.35963502],\n",
       "       [0.34489948, 0.65510052],\n",
       "       [0.81216078, 0.18783922],\n",
       "       [0.91123619, 0.08876381],\n",
       "       [0.76692796, 0.23307204],\n",
       "       [0.86370449, 0.13629551],\n",
       "       [0.78842243, 0.21157757],\n",
       "       [0.82565403, 0.17434597],\n",
       "       [0.81674566, 0.18325434],\n",
       "       [0.71463005, 0.28536995],\n",
       "       [0.86370449, 0.13629551],\n",
       "       [0.41184761, 0.58815239],\n",
       "       [0.52467456, 0.47532544],\n",
       "       [0.55631248, 0.44368752],\n",
       "       [0.75139967, 0.24860033],\n",
       "       [0.62228924, 0.37771076],\n",
       "       [0.90359306, 0.09640694],\n",
       "       [0.87753433, 0.12246567],\n",
       "       [0.84799666, 0.15200334],\n",
       "       [0.74912572, 0.25087428],\n",
       "       [0.83421725, 0.16578275],\n",
       "       [0.81810408, 0.18189592],\n",
       "       [0.71308065, 0.28691935],\n",
       "       [0.78816925, 0.21183075],\n",
       "       [0.78403703, 0.21596297],\n",
       "       [0.69474666, 0.30525334],\n",
       "       [0.79294165, 0.20705835],\n",
       "       [0.87205178, 0.12794822],\n",
       "       [0.86583335, 0.13416665],\n",
       "       [0.45955061, 0.54044939],\n",
       "       [0.84877718, 0.15122282],\n",
       "       [0.78791586, 0.21208414],\n",
       "       [0.84838733, 0.15161267],\n",
       "       [0.72016601, 0.27983399],\n",
       "       [0.9047759 , 0.0952241 ],\n",
       "       [0.85032835, 0.14967165],\n",
       "       [0.718328  , 0.281672  ],\n",
       "       [0.68106918, 0.31893082],\n",
       "       [0.30179801, 0.69820199],\n",
       "       [0.68599151, 0.31400849],\n",
       "       [0.8203507 , 0.1796493 ],\n",
       "       [0.86862805, 0.13137195],\n",
       "       [0.84324392, 0.15675608],\n",
       "       [0.87205178, 0.12794822],\n",
       "       [0.59556405, 0.40443595],\n",
       "       [0.71090308, 0.28909692],\n",
       "       [0.68599151, 0.31400849],\n",
       "       [0.70714739, 0.29285261],\n",
       "       [0.84916621, 0.15083379],\n",
       "       [0.84041603, 0.15958397],\n",
       "       [0.5277003 , 0.4722997 ],\n",
       "       [0.58086713, 0.41913287],\n",
       "       [0.87205178, 0.12794822],\n",
       "       [0.83287014, 0.16712986],\n",
       "       [0.88468376, 0.11531624],\n",
       "       [0.73282456, 0.26717544],\n",
       "       [0.86793404, 0.13206596],\n",
       "       [0.8985914 , 0.1014086 ],\n",
       "       [0.79787889, 0.20212111],\n",
       "       [0.76692796, 0.23307204],\n",
       "       [0.87812004, 0.12187996],\n",
       "       [0.7899368 , 0.2100632 ],\n",
       "       [0.85602868, 0.14397132],\n",
       "       [0.8093678 , 0.1906322 ],\n",
       "       [0.81216078, 0.18783922],\n",
       "       [0.8203507 , 0.1796493 ],\n",
       "       [0.73989246, 0.26010754],\n",
       "       [0.89789811, 0.10210189],\n",
       "       [0.61369418, 0.38630582],\n",
       "       [0.85602868, 0.14397132],\n",
       "       [0.69571098, 0.30428902],\n",
       "       [0.11048908, 0.88951092],\n",
       "       [0.87205178, 0.12794822],\n",
       "       [0.79909937, 0.20090063],\n",
       "       [0.80748823, 0.19251177],\n",
       "       [0.85490325, 0.14509675],\n",
       "       [0.83421725, 0.16578275],\n",
       "       [0.87638852, 0.12361148],\n",
       "       [0.52467456, 0.47532544],\n",
       "       [0.85490325, 0.14509675],\n",
       "       [0.73590225, 0.26409775],\n",
       "       [0.85369475, 0.14630525],\n",
       "       [0.89465462, 0.10534538],\n",
       "       [0.46407514, 0.53592486],\n",
       "       [0.73282456, 0.26717544],\n",
       "       [0.79591461, 0.20408539],\n",
       "       [0.47412457, 0.52587543],\n",
       "       [0.84041603, 0.15958397],\n",
       "       [0.85714684, 0.14285316],\n",
       "       [0.53374547, 0.46625453],\n",
       "       [0.90186134, 0.09813866],\n",
       "       [0.85339133, 0.14660867],\n",
       "       [0.58086713, 0.41913287],\n",
       "       [0.81216078, 0.18783922],\n",
       "       [0.90359306, 0.09640694],\n",
       "       [0.39723146, 0.60276854],\n",
       "       [0.73371469, 0.26628531],\n",
       "       [0.73282456, 0.26717544],\n",
       "       [0.63924623, 0.36075377]])"
      ]
     },
     "execution_count": 35,
     "metadata": {},
     "output_type": "execute_result"
    }
   ],
   "source": [
    "log_r.predict_proba(x_test) #probability of both the cases"
   ]
  },
  {
   "cell_type": "code",
   "execution_count": null,
   "id": "18946757",
   "metadata": {},
   "outputs": [],
   "source": []
  }
 ],
 "metadata": {
  "kernelspec": {
   "display_name": "Python 3 (ipykernel)",
   "language": "python",
   "name": "python3"
  },
  "language_info": {
   "codemirror_mode": {
    "name": "ipython",
    "version": 3
   },
   "file_extension": ".py",
   "mimetype": "text/x-python",
   "name": "python",
   "nbconvert_exporter": "python",
   "pygments_lexer": "ipython3",
   "version": "3.11.5"
  }
 },
 "nbformat": 4,
 "nbformat_minor": 5
}
